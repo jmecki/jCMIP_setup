{
 "cells": [
  {
   "cell_type": "code",
   "execution_count": 1,
   "id": "377ef3ba-f4f5-4385-a95f-0664d0f482b7",
   "metadata": {},
   "outputs": [],
   "source": [
    "%load_ext autoreload\n",
    "%autoreload 2\n",
    "\n",
    "import jCMIP as jc\n",
    "import numpy as np\n",
    "import matplotlib.pyplot as plt\n",
    "from netCDF4 import Dataset\n",
    "import copy"
   ]
  },
  {
   "cell_type": "code",
   "execution_count": 633,
   "id": "33c7a22d-c484-4f54-a9fe-1fbf31d888e8",
   "metadata": {},
   "outputs": [
    {
     "name": "stdout",
     "output_type": "stream",
     "text": [
      "UKESM1-0-LL\n",
      "lon\n",
      "lat\n",
      "unknown\n",
      "True\n"
     ]
    }
   ],
   "source": [
    "#cmip   = '5'\n",
    "cmip   = '6'\n",
    "Clist = jc.readList(('../CMIP' + cmip + 'list'))\n",
    "Models = list(Clist.keys())\n",
    "\n",
    "Model = Clist[Models[96]]\n",
    "print(Model.name)\n",
    "print(Model.Alon)\n",
    "print(Model.Alat)\n",
    "print(Model.Agrid)\n",
    "print(Model.Areg)\n",
    "\n",
    "# Not enough info - 6/2-3,6,11-12,17,22(?),23,24(?),27-43,46-51,62-63,65-67,68(?),69,70(?),71(?),72-73,86-88,95"
   ]
  },
  {
   "cell_type": "code",
   "execution_count": 634,
   "id": "f12cd578-5c69-48f7-925c-4124b495a96c",
   "metadata": {},
   "outputs": [],
   "source": [
    "psl = Model.getFiles(var='psl',EXP='*',ENS='*',vtype='Amon',gtype='gn')[0]"
   ]
  },
  {
   "cell_type": "code",
   "execution_count": 635,
   "id": "fcc7a35a-0bc2-4cae-b046-4626bf53507c",
   "metadata": {},
   "outputs": [],
   "source": [
    "Tlon, Tlat = jc.Alatlon(Model,psl,'tas')"
   ]
  },
  {
   "cell_type": "code",
   "execution_count": 636,
   "id": "8ffa0608-3463-4183-9055-bb07705d945d",
   "metadata": {},
   "outputs": [
    {
     "data": {
      "text/plain": [
       "[<matplotlib.lines.Line2D at 0x7f284daa7710>]"
      ]
     },
     "execution_count": 636,
     "metadata": {},
     "output_type": "execute_result"
    },
    {
     "data": {
      "image/png": "[encoded data removed]",
      "text/plain": [
       "<Figure size 432x288 with 1 Axes>"
      ]
     },
     "metadata": {
      "needs_background": "light"
     },
     "output_type": "display_data"
    }
   ],
   "source": [
    "plt.plot(Tlon)"
   ]
  },
  {
   "cell_type": "code",
   "execution_count": 637,
   "id": "cadcd160-cfd2-4e2d-90cc-b0b96ce43962",
   "metadata": {},
   "outputs": [
    {
     "name": "stdout",
     "output_type": "stream",
     "text": [
      "0.9375\n",
      "2.8125\n",
      "357.1875\n",
      "359.0625\n"
     ]
    }
   ],
   "source": [
    "print(Tlon[0])\n",
    "print(Tlon[1])\n",
    "print(Tlon[-2])\n",
    "print(Tlon[-1])"
   ]
  },
  {
   "cell_type": "code",
   "execution_count": null,
   "id": "4d3d4594-3b3b-4d5a-8027-1d5dd2b0f6e6",
   "metadata": {},
   "outputs": [],
   "source": []
  },
  {
   "cell_type": "code",
   "execution_count": null,
   "id": "2db28f3b-c450-4f01-82b7-eb39d8729458",
   "metadata": {},
   "outputs": [],
   "source": []
  }
 ],
 "metadata": {
  "kernelspec": {
   "display_name": "Python 3",
   "language": "python",
   "name": "python3"
  },
  "language_info": {
   "codemirror_mode": {
    "name": "ipython",
    "version": 3
   },
   "file_extension": ".py",
   "mimetype": "text/x-python",
   "name": "python",
   "nbconvert_exporter": "python",
   "pygments_lexer": "ipython3",
   "version": "3.7.10"
  }
 },
 "nbformat": 4,
 "nbformat_minor": 5
}
